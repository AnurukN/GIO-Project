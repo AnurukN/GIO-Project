{
 "cells": [
  {
   "cell_type": "code",
   "execution_count": 2,
   "metadata": {},
   "outputs": [],
   "source": [
    "import warnings\n",
    "warnings.filterwarnings('ignore')\n",
    "\n",
    "import pandas as pd\n",
    "import numpy as np\n",
    "import matplotlib.pyplot as plt\n",
    "import seaborn as sns\n",
    "\n",
    "%matplotlib inline\n",
    "from IPython.display import display\n",
    "pd.options.display.max_columns = None"
   ]
  },
  {
   "cell_type": "code",
   "execution_count": 43,
   "metadata": {},
   "outputs": [
    {
     "data": {
      "text/html": [
       "<script>\n",
       "code_show=true; \n",
       "function code_toggle() {\n",
       " if (code_show){\n",
       " $('div.input').hide();\n",
       " } else {\n",
       " $('div.input').show();\n",
       " }\n",
       " code_show = !code_show\n",
       "} \n",
       "$( document ).ready(code_toggle);\n",
       "</script>\n",
       "<form action=\"javascript:code_toggle()\"><input type=\"submit\" value=\"Click here to toggle on/off the raw code.\"></form>"
      ],
      "text/plain": [
       "<IPython.core.display.HTML object>"
      ]
     },
     "execution_count": 43,
     "metadata": {},
     "output_type": "execute_result"
    }
   ],
   "source": [
    "from IPython.display import HTML\n",
    "\n",
    "HTML('''<script>\n",
    "code_show=true; \n",
    "function code_toggle() {\n",
    " if (code_show){\n",
    " $('div.input').hide();\n",
    " } else {\n",
    " $('div.input').show();\n",
    " }\n",
    " code_show = !code_show\n",
    "} \n",
    "$( document ).ready(code_toggle);\n",
    "</script>\n",
    "<form action=\"javascript:code_toggle()\"><input type=\"submit\" value=\"Click here to toggle on/off the raw code.\"></form>''')"
   ]
  },
  {
   "cell_type": "markdown",
   "metadata": {},
   "source": [
    "# Setting\n",
    "\n",
    "#### Use plain text for all the prediction set\n"
   ]
  },
  {
   "cell_type": "code",
   "execution_count": 42,
   "metadata": {
    "scrolled": true
   },
   "outputs": [
    {
     "name": "stdout",
     "output_type": "stream",
     "text": [
      "['ACTIVE', 'COMPLETE', 'INACTIVE']\n",
      "['N', 'Y']\n"
     ]
    }
   ],
   "source": [
    "ACI = ['ACTIVE', 'COMPLETE', 'INACTIVE']\n",
    "YN = ['N', 'Y']\n",
    "print(ACI)\n",
    "print(YN)"
   ]
  },
  {
   "cell_type": "code",
   "execution_count": 44,
   "metadata": {},
   "outputs": [],
   "source": [
    "feature = ['X_AGE_MTH','FIRST_INSURE_AGE','X_ACTIVE_RIDER_CNT',\n",
    "        'X_PAID_RIDER_ANP_AMT','STD_OCCUPATION_CD',\n",
    "        'POLICY_PREMIUM_AMT','FIRST_LIFE_PRODUCT_RK',\n",
    "        'X_PAID_POLICY_ANP_AMT',\n",
    "        'X_RIDER_DISEASE_SUM_ASSURE_AMT',\n",
    "        'X_POLICY_SUM_ASSURE_AMT',\n",
    "        'X_RIDER_DISEASE_SUM_ASSURE_AMT',\n",
    "        'X_BASEPLAN_TERM_ASSURE_AMT',\n",
    "        'X_RIDER_SUM_ASSURE_AMT',\n",
    "        'X_ACTIVE_POLICY_CNT',\n",
    "        'X_COMPLAINT_L60M_CNT',\n",
    "        'X_RIDER_PAYER_SUM_ASSURE_AMT',\n",
    "        'ACTIVE_PA_INS_ACCTS_CNT',\n",
    "        'X_CUSTOMER_STATUS',\n",
    "        'X_COMP_POLICY_SRV_L60M_CNT',\n",
    "        'X_POLICY_CONTACT_COMPLETE_CNT',\n",
    "        'X_TLC_ACTIVE_FLG',\n",
    "        'X_CUST_BENEFICIARY_MOTHER_FLG',\n",
    "        'X_CUST_BENEFICIARY_CHILD_FLG',\n",
    "        'VALID_EMAIL_FLG',\n",
    "        'X_PAY_CHANNEL_BANK_FLG',\n",
    "        'VALID_HOME_PHONE_FLG',\n",
    "        'X_SHORT_PAY_FLG']"
   ]
  },
  {
   "cell_type": "markdown",
   "metadata": {},
   "source": [
    "__Note that the negative data is mean the data of customer who not bought policy and otherwise is mean  the data of customer who bought policy__ "
   ]
  },
  {
   "cell_type": "markdown",
   "metadata": {},
   "source": [
    "# Negative"
   ]
  },
  {
   "cell_type": "code",
   "execution_count": 14,
   "metadata": {},
   "outputs": [],
   "source": [
    "df_negative = pd.read_excel('QUERY_FOR_TARGET_ACCUMULATE.xlsx')\n",
    "X_negative = df_negative[feature]"
   ]
  },
  {
   "cell_type": "code",
   "execution_count": 33,
   "metadata": {},
   "outputs": [],
   "source": [
    "X_negative['X_CUSTOMER_STATUS'] = pd.Categorical(X_negative['X_CUSTOMER_STATUS'], \n",
    "                categories=ACI).codes\n",
    "X_negative['X_TLC_ACTIVE_FLG'] = pd.Categorical(X_negative['X_TLC_ACTIVE_FLG'], \n",
    "                categories=YN).codes\n",
    "X_negative['X_CUST_BENEFICIARY_MOTHER_FLG'] = pd.Categorical(X_negative['X_CUST_BENEFICIARY_MOTHER_FLG'], \n",
    "                categories=YN).codes\n",
    "X_negative['X_CUST_BENEFICIARY_CHILD_FLG'] = pd.Categorical(X_negative['X_CUST_BENEFICIARY_CHILD_FLG'], \n",
    "                categories=YN).codes\n",
    "X_negative['VALID_EMAIL_FLG'] = pd.Categorical(X_negative['VALID_EMAIL_FLG'], \n",
    "                categories=YN).codes\n",
    "X_negative['X_PAY_CHANNEL_BANK_FLG'] = pd.Categorical(X_negative['X_PAY_CHANNEL_BANK_FLG'], \n",
    "                categories=YN).codes\n",
    "X_negative['X_SHORT_PAY_FLG'] = pd.Categorical(X_negative['X_SHORT_PAY_FLG'], \n",
    "                categories=YN).codes\n",
    "X_negative['VALID_HOME_PHONE_FLG'] = pd.Categorical(X_negative['VALID_HOME_PHONE_FLG'], \n",
    "                categories=YN).codes"
   ]
  },
  {
   "cell_type": "code",
   "execution_count": 34,
   "metadata": {},
   "outputs": [
    {
     "name": "stdout",
     "output_type": "stream",
     "text": [
      "<class 'pandas.core.frame.DataFrame'>\n",
      "RangeIndex: 301670 entries, 0 to 301669\n",
      "Data columns (total 27 columns):\n",
      "X_AGE_MTH                         301670 non-null int64\n",
      "FIRST_INSURE_AGE                  300588 non-null float64\n",
      "X_ACTIVE_RIDER_CNT                301670 non-null int64\n",
      "X_PAID_RIDER_ANP_AMT              301670 non-null int64\n",
      "STD_OCCUPATION_CD                 301670 non-null int64\n",
      "POLICY_PREMIUM_AMT                301670 non-null int64\n",
      "FIRST_LIFE_PRODUCT_RK             301670 non-null int64\n",
      "X_PAID_POLICY_ANP_AMT             301670 non-null int64\n",
      "X_RIDER_DISEASE_SUM_ASSURE_AMT    301670 non-null int64\n",
      "X_POLICY_SUM_ASSURE_AMT           301670 non-null int64\n",
      "X_RIDER_DISEASE_SUM_ASSURE_AMT    301670 non-null int64\n",
      "X_BASEPLAN_TERM_ASSURE_AMT        301670 non-null int64\n",
      "X_RIDER_SUM_ASSURE_AMT            301670 non-null int64\n",
      "X_ACTIVE_POLICY_CNT               301670 non-null int64\n",
      "X_COMPLAINT_L60M_CNT              301670 non-null int64\n",
      "X_RIDER_PAYER_SUM_ASSURE_AMT      301670 non-null int64\n",
      "ACTIVE_PA_INS_ACCTS_CNT           301670 non-null int64\n",
      "X_CUSTOMER_STATUS                 301670 non-null int8\n",
      "X_COMP_POLICY_SRV_L60M_CNT        301670 non-null int64\n",
      "X_POLICY_CONTACT_COMPLETE_CNT     301670 non-null int64\n",
      "X_TLC_ACTIVE_FLG                  301670 non-null int8\n",
      "X_CUST_BENEFICIARY_MOTHER_FLG     301670 non-null int8\n",
      "X_CUST_BENEFICIARY_CHILD_FLG      301670 non-null int8\n",
      "VALID_EMAIL_FLG                   301670 non-null int8\n",
      "X_PAY_CHANNEL_BANK_FLG            301670 non-null int8\n",
      "VALID_HOME_PHONE_FLG              301670 non-null int8\n",
      "X_SHORT_PAY_FLG                   301670 non-null int8\n",
      "dtypes: float64(1), int64(18), int8(8)\n",
      "memory usage: 46.0 MB\n"
     ]
    }
   ],
   "source": [
    "from catboost import CatBoostClassifier\n",
    "\n",
    "from_file = CatBoostClassifier()\n",
    "from_file.load_model(\"bestmodel_1\")\n",
    "X_negative.rename(index=str, columns={\"POLICY_PREMIUM_AMT\": \"oldPremium\"})\n",
    "X_negative.info()"
   ]
  },
  {
   "cell_type": "code",
   "execution_count": 35,
   "metadata": {},
   "outputs": [],
   "source": [
    "X_test_negative = X_negative.loc[:,:]\n",
    "y_predict_negative = from_file.predict(X_test_negative)"
   ]
  },
  {
   "cell_type": "markdown",
   "metadata": {},
   "source": [
    "__The number of all negative data__"
   ]
  },
  {
   "cell_type": "code",
   "execution_count": 36,
   "metadata": {
    "scrolled": true
   },
   "outputs": [
    {
     "data": {
      "text/plain": [
       "301670"
      ]
     },
     "execution_count": 36,
     "metadata": {},
     "output_type": "execute_result"
    }
   ],
   "source": [
    "y_predict_negative.size"
   ]
  },
  {
   "cell_type": "markdown",
   "metadata": {},
   "source": [
    "__Predict buy__"
   ]
  },
  {
   "cell_type": "code",
   "execution_count": 37,
   "metadata": {
    "scrolled": false
   },
   "outputs": [
    {
     "data": {
      "text/plain": [
       "86648"
      ]
     },
     "execution_count": 37,
     "metadata": {},
     "output_type": "execute_result"
    }
   ],
   "source": [
    "np.count_nonzero(y_predict_negative)"
   ]
  },
  {
   "cell_type": "markdown",
   "metadata": {},
   "source": [
    "__Predict not buy__"
   ]
  },
  {
   "cell_type": "code",
   "execution_count": 38,
   "metadata": {
    "scrolled": true
   },
   "outputs": [
    {
     "data": {
      "text/plain": [
       "215022"
      ]
     },
     "execution_count": 38,
     "metadata": {},
     "output_type": "execute_result"
    }
   ],
   "source": [
    "y_predict_negative.size - np.count_nonzero(y_predict_negative)"
   ]
  },
  {
   "cell_type": "markdown",
   "metadata": {},
   "source": [
    "# Positive"
   ]
  },
  {
   "cell_type": "code",
   "execution_count": 25,
   "metadata": {},
   "outputs": [],
   "source": [
    "df_positive = pd.read_excel('QUERY_FOR_TL_CANCER_CARE_RESPONSE_ACCUMULA.xlsx')\n",
    "X_positive = df_positive[feature]"
   ]
  },
  {
   "cell_type": "code",
   "execution_count": 27,
   "metadata": {},
   "outputs": [],
   "source": [
    "X_positive['X_CUSTOMER_STATUS'] = pd.Categorical(X_positive['X_CUSTOMER_STATUS'], \n",
    "                categories=ACI).codes\n",
    "X_positive['X_TLC_ACTIVE_FLG'] = pd.Categorical(X_positive['X_TLC_ACTIVE_FLG'], \n",
    "                categories=YN).codes\n",
    "X_positive['X_CUST_BENEFICIARY_MOTHER_FLG'] = pd.Categorical(X_positive['X_CUST_BENEFICIARY_MOTHER_FLG'], \n",
    "                categories=YN).codes\n",
    "X_positive['X_CUST_BENEFICIARY_CHILD_FLG'] = pd.Categorical(X_positive['X_CUST_BENEFICIARY_CHILD_FLG'], \n",
    "                categories=YN).codes\n",
    "X_positive['VALID_EMAIL_FLG'] = pd.Categorical(X_positive['VALID_EMAIL_FLG'], \n",
    "                categories=YN).codes\n",
    "X_positive['X_PAY_CHANNEL_BANK_FLG'] = pd.Categorical(X_positive['X_PAY_CHANNEL_BANK_FLG'], \n",
    "                categories=YN).codes\n",
    "X_positive['X_SHORT_PAY_FLG'] = pd.Categorical(X_positive['X_SHORT_PAY_FLG'], \n",
    "                categories=YN).codes\n",
    "X_positive['VALID_HOME_PHONE_FLG'] = pd.Categorical(X_positive['VALID_HOME_PHONE_FLG'], \n",
    "                categories=YN).codes"
   ]
  },
  {
   "cell_type": "code",
   "execution_count": 28,
   "metadata": {},
   "outputs": [
    {
     "name": "stdout",
     "output_type": "stream",
     "text": [
      "<class 'pandas.core.frame.DataFrame'>\n",
      "RangeIndex: 2372 entries, 0 to 2371\n",
      "Data columns (total 27 columns):\n",
      "X_AGE_MTH                         2372 non-null int64\n",
      "FIRST_INSURE_AGE                  2357 non-null float64\n",
      "X_ACTIVE_RIDER_CNT                2372 non-null int64\n",
      "X_PAID_RIDER_ANP_AMT              2372 non-null int64\n",
      "STD_OCCUPATION_CD                 2372 non-null int64\n",
      "POLICY_PREMIUM_AMT                2372 non-null int64\n",
      "FIRST_LIFE_PRODUCT_RK             2372 non-null int64\n",
      "X_PAID_POLICY_ANP_AMT             2372 non-null int64\n",
      "X_RIDER_DISEASE_SUM_ASSURE_AMT    2372 non-null int64\n",
      "X_POLICY_SUM_ASSURE_AMT           2372 non-null int64\n",
      "X_RIDER_DISEASE_SUM_ASSURE_AMT    2372 non-null int64\n",
      "X_BASEPLAN_TERM_ASSURE_AMT        2372 non-null int64\n",
      "X_RIDER_SUM_ASSURE_AMT            2372 non-null int64\n",
      "X_ACTIVE_POLICY_CNT               2372 non-null int64\n",
      "X_COMPLAINT_L60M_CNT              2372 non-null int64\n",
      "X_RIDER_PAYER_SUM_ASSURE_AMT      2372 non-null int64\n",
      "ACTIVE_PA_INS_ACCTS_CNT           2372 non-null int64\n",
      "X_CUSTOMER_STATUS                 2372 non-null int8\n",
      "X_COMP_POLICY_SRV_L60M_CNT        2372 non-null int64\n",
      "X_POLICY_CONTACT_COMPLETE_CNT     2372 non-null int64\n",
      "X_TLC_ACTIVE_FLG                  2372 non-null int8\n",
      "X_CUST_BENEFICIARY_MOTHER_FLG     2372 non-null int8\n",
      "X_CUST_BENEFICIARY_CHILD_FLG      2372 non-null int8\n",
      "VALID_EMAIL_FLG                   2372 non-null int8\n",
      "X_PAY_CHANNEL_BANK_FLG            2372 non-null int8\n",
      "VALID_HOME_PHONE_FLG              2372 non-null int8\n",
      "X_SHORT_PAY_FLG                   2372 non-null int8\n",
      "dtypes: float64(1), int64(18), int8(8)\n",
      "memory usage: 370.7 KB\n"
     ]
    }
   ],
   "source": [
    "from catboost import CatBoostClassifier\n",
    "\n",
    "from_file = CatBoostClassifier()\n",
    "from_file.load_model(\"bestmodel_1\")\n",
    "X_positive.rename(index=str, columns={\"POLICY_PREMIUM_AMT\": \"oldPremium\"})\n",
    "X_positive.info()"
   ]
  },
  {
   "cell_type": "code",
   "execution_count": 29,
   "metadata": {},
   "outputs": [],
   "source": [
    "X_test_positive = X_positive.loc[:,:]\n",
    "y_predict_positive = from_file.predict(X_test_positive)\n",
    "result = X_positive\n",
    "result['prediction'] = y_predict_positive"
   ]
  },
  {
   "cell_type": "markdown",
   "metadata": {},
   "source": [
    "__The number of all positive data__"
   ]
  },
  {
   "cell_type": "code",
   "execution_count": 30,
   "metadata": {},
   "outputs": [
    {
     "data": {
      "text/plain": [
       "2372"
      ]
     },
     "execution_count": 30,
     "metadata": {},
     "output_type": "execute_result"
    }
   ],
   "source": [
    "y_predict_positive.size"
   ]
  },
  {
   "cell_type": "markdown",
   "metadata": {},
   "source": [
    "__Predict buy__"
   ]
  },
  {
   "cell_type": "code",
   "execution_count": 31,
   "metadata": {},
   "outputs": [
    {
     "data": {
      "text/plain": [
       "2113"
      ]
     },
     "execution_count": 31,
     "metadata": {},
     "output_type": "execute_result"
    }
   ],
   "source": [
    "np.count_nonzero(y_predict_positive)"
   ]
  },
  {
   "cell_type": "markdown",
   "metadata": {},
   "source": [
    "__Predict not buy__"
   ]
  },
  {
   "cell_type": "code",
   "execution_count": 32,
   "metadata": {},
   "outputs": [
    {
     "data": {
      "text/plain": [
       "259"
      ]
     },
     "execution_count": 32,
     "metadata": {},
     "output_type": "execute_result"
    }
   ],
   "source": [
    "y_predict_positive.size - np.count_nonzero(y_predict_positive)"
   ]
  }
 ],
 "metadata": {
  "kernelspec": {
   "display_name": "Python 3",
   "language": "python",
   "name": "python3"
  },
  "language_info": {
   "codemirror_mode": {
    "name": "ipython",
    "version": 3
   },
   "file_extension": ".py",
   "mimetype": "text/x-python",
   "name": "python",
   "nbconvert_exporter": "python",
   "pygments_lexer": "ipython3",
   "version": "3.7.1"
  }
 },
 "nbformat": 4,
 "nbformat_minor": 2
}
